{
 "cells": [
  {
   "cell_type": "code",
   "execution_count": 12,
   "metadata": {
    "collapsed": true,
    "pycharm": {
     "name": "#%%\n"
    }
   },
   "outputs": [
    {
     "name": "stdout",
     "output_type": "stream",
     "text": [
      "[4, 5]\n",
      "[None, None]\n"
     ]
    },
    {
     "data": {
      "text/plain": "[None, None, None, 1, None, None, 4, 5]"
     },
     "execution_count": 12,
     "metadata": {},
     "output_type": "execute_result"
    }
   ],
   "source": [
    "def pad(a, prev_it_amount, max_amount):\n",
    "    diff = max_amount - len(a)\n",
    "    assert diff >= 0\n",
    "    pad = [None]*diff\n",
    "    new_entries = len(a) - prev_it_amount\n",
    "    if new_entries > 0:\n",
    "        print(a[-new_entries:])\n",
    "        print(pad)\n",
    "        a = a[:-new_entries] + pad + a[-new_entries:]\n",
    "    else:\n",
    "        a = a + pad\n",
    "    return a\n",
    "\n",
    "pad([None, None, None, 1, 4, 5], 4, 8)"
   ]
  },
  {
   "cell_type": "code",
   "execution_count": 24,
   "outputs": [
    {
     "name": "stdout",
     "output_type": "stream",
     "text": [
      "6\n",
      "4\n",
      "4\n",
      "6\n",
      "False\n"
     ]
    }
   ],
   "source": [
    "from vae.vae_torch import MultiVAE, VaeDecoder, VaeEncoder\n",
    "\n",
    "e = VaeEncoder(30,3)\n",
    "e_p = [t for t in e.parameters()]\n",
    "d = VaeDecoder(30, 3)\n",
    "d_p = [t for t in d.parameters()]\n",
    "d2 = VaeDecoder(30, 5)\n",
    "d2_p = [t for t in d2.parameters()]\n",
    "vae = MultiVAE(e, [d, d2])\n",
    "v_p = [t for t in vae.parameters()]\n",
    "print(len(e_p))\n",
    "print(len(d_p))\n",
    "print(len(d2_p))\n",
    "print(len(v_p))\n",
    "print(e_p + d_p + d2_p == v_p)\n"
   ],
   "metadata": {
    "collapsed": false,
    "pycharm": {
     "name": "#%%\n"
    }
   }
  },
  {
   "cell_type": "code",
   "execution_count": 44,
   "outputs": [
    {
     "name": "stdout",
     "output_type": "stream",
     "text": [
      "[0]\n",
      "[[10.   0.3]\n",
      " [ 9.9  0.3]\n",
      " [10.   0.3]\n",
      " [10.   0.3]]\n"
     ]
    }
   ],
   "source": [
    "import numpy as np\n",
    "import torch\n",
    "obs = [[0.1*float(i), 0.3] for i in range(0,101)]\n",
    "z_len = 2\n",
    "l = len(obs)\n",
    "ar = [np.arange(0, l-i) for i in range(0, l)]\n",
    "print(ar[-1])\n",
    "s = np.concatenate(ar)\n",
    "obs = torch.from_numpy(np.array(obs))\n",
    "z1s = [obs[i].expand(l-i, z_len) for i in range(0,l)]\n",
    "z1s = torch.cat(z1s, dim=0)\n",
    "z2s = [obs[i:] for i in range(0,l)]\n",
    "z2s = torch.cat(z2s, dim=0)\n",
    "print(z2s[-4:].numpy())"
   ],
   "metadata": {
    "collapsed": false,
    "pycharm": {
     "name": "#%%\n"
    }
   }
  }
 ],
 "metadata": {
  "kernelspec": {
   "display_name": "Python 3",
   "language": "python",
   "name": "python3"
  },
  "language_info": {
   "codemirror_mode": {
    "name": "ipython",
    "version": 2
   },
   "file_extension": ".py",
   "mimetype": "text/x-python",
   "name": "python",
   "nbconvert_exporter": "python",
   "pygments_lexer": "ipython2",
   "version": "2.7.6"
  }
 },
 "nbformat": 4,
 "nbformat_minor": 0
}