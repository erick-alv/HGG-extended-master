{
 "cells": [
  {
   "cell_type": "code",
   "execution_count": 12,
   "metadata": {
    "collapsed": true
   },
   "outputs": [
    {
     "name": "stdout",
     "output_type": "stream",
     "text": [
      "[4, 5]\n",
      "[None, None]\n"
     ]
    },
    {
     "data": {
      "text/plain": "[None, None, None, 1, None, None, 4, 5]"
     },
     "execution_count": 12,
     "metadata": {},
     "output_type": "execute_result"
    }
   ],
   "source": [
    "def pad(a, prev_it_amount, max_amount):\n",
    "    diff = max_amount - len(a)\n",
    "    assert diff >= 0\n",
    "    pad = [None]*diff\n",
    "    new_entries = len(a) - prev_it_amount\n",
    "    if new_entries > 0:\n",
    "        print(a[-new_entries:])\n",
    "        print(pad)\n",
    "        a = a[:-new_entries] + pad + a[-new_entries:]\n",
    "    else:\n",
    "        a = a + pad\n",
    "    return a\n",
    "\n",
    "pad([None, None, None, 1, 4, 5], 4, 8)"
   ]
  },
  {
   "cell_type": "code",
   "execution_count": 34,
   "outputs": [
    {
     "data": {
      "text/plain": "[53, 75, 234]"
     },
     "execution_count": 34,
     "metadata": {},
     "output_type": "execute_result"
    }
   ],
   "source": [
    "[42,53,75,234][1:]\n"
   ],
   "metadata": {
    "collapsed": false,
    "pycharm": {
     "name": "#%%\n"
    }
   }
  },
  {
   "cell_type": "code",
   "execution_count": 28,
   "outputs": [
    {
     "data": {
      "text/plain": "[221, 3232, 23, 123]"
     },
     "execution_count": 28,
     "metadata": {},
     "output_type": "execute_result"
    }
   ],
   "source": [
    "import time\n",
    "import copy\n",
    "time.strftime('%Y_%m_%d_%H_%M_%S')\n",
    "[221,3232,23,123,12,41,2][:-3]"
   ],
   "metadata": {
    "collapsed": false,
    "pycharm": {
     "name": "#%%\n"
    }
   }
  },
  {
   "cell_type": "code",
   "execution_count": null,
   "outputs": [],
   "source": [
    "\n"
   ],
   "metadata": {
    "collapsed": false,
    "pycharm": {
     "name": "#%%\n"
    }
   }
  }
 ],
 "metadata": {
  "kernelspec": {
   "display_name": "Python 3",
   "language": "python",
   "name": "python3"
  },
  "language_info": {
   "codemirror_mode": {
    "name": "ipython",
    "version": 2
   },
   "file_extension": ".py",
   "mimetype": "text/x-python",
   "name": "python",
   "nbconvert_exporter": "python",
   "pygments_lexer": "ipython2",
   "version": "2.7.6"
  }
 },
 "nbformat": 4,
 "nbformat_minor": 0
}